{
 "cells": [
  {
   "cell_type": "code",
   "execution_count": 1,
   "metadata": {},
   "outputs": [
    {
     "name": "stderr",
     "output_type": "stream",
     "text": [
      "################################################################################\n",
      "### WARNING, path does not exist: KALDI_ROOT=/mnt/matylda5/iveselyk/Tools/kaldi-trunk\n",
      "###          (please add 'export KALDI_ROOT=<your_path>' in your $HOME/.profile)\n",
      "###          (or run as: KALDI_ROOT=<your_path> python <your_script>.py)\n",
      "################################################################################\n",
      "\n",
      "[NeMo W 2020-09-29 03:28:47 audio_preprocessing:56] Could not import torchaudio. Some features might not work.\n"
     ]
    }
   ],
   "source": [
    "import nemo\n",
    "import nemo.collections.nlp as nemo_nlp\n",
    "from nemo.collections.nlp.data.datasets import BertTextClassificationDataset\n",
    "from nemo.collections.nlp.nm.data_layers.text_classification_datalayer import BertTextClassificationDataLayer\n",
    "from nemo.collections.nlp.nm.trainables import SequenceClassifier\n",
    "\n",
    "from nemo.backends.pytorch.common import CrossEntropyLossNM\n",
    "from nemo.utils.lr_policies import get_lr_policy\n",
    "from nemo.collections.nlp.callbacks.text_classification_callback import eval_iter_callback, eval_epochs_done_callback\n",
    "from nemo import logging\n",
    "\n",
    "import os\n",
    "import json\n",
    "import math\n",
    "import numpy as np\n",
    "\n",
    "import matplotlib.pyplot as plt\n",
    "%matplotlib inline\n",
    "\n",
    "import torch"
   ]
  },
  {
   "cell_type": "code",
   "execution_count": 2,
   "metadata": {},
   "outputs": [],
   "source": [
    "AMP_OPTIMIZATION_LEVEL = 'O1'\n",
    "WORK_DIR = 'output/'\n",
    "PRETRAINED_MODEL_NAME = 'bert-base-uncased' # 'megatron-bert-uncased', 'bert-large-uncased'\n",
    "PRETRAINED_MODEL_CHECKPOINT = './checkpoint/bert/bert.pt'\n",
    "PRETRAINED_MODEL_CONFIG = './checkpoint/bert/bert_config.json'\n",
    "TRAIN_DATA_PATH = './data/train.tsv'\n",
    "TEST_DATA_PATH = './data/test.tsv'\n",
    "\n",
    "MAX_SEQ_LEN = 256\n",
    "DROPOUT_RATE = .3\n",
    "BATCH_SIZE = 32\n",
    "\n",
    "n_epochs = 3\n",
    "lr_warmup_proportion = 0.1\n",
    "lr = 3e-5\n",
    "weight_decay = 0.01"
   ]
  },
  {
   "cell_type": "code",
   "execution_count": 3,
   "metadata": {},
   "outputs": [],
   "source": [
    "nf = nemo.core.NeuralModuleFactory(log_dir=WORK_DIR,\n",
    "                                   create_tb_writer=True,\n",
    "                                   add_time_to_log_dir=False,\n",
    "                                   optimization_level=AMP_OPTIMIZATION_LEVEL)"
   ]
  },
  {
   "cell_type": "code",
   "execution_count": 4,
   "metadata": {
    "scrolled": true
   },
   "outputs": [
    {
     "name": "stdout",
     "output_type": "stream",
     "text": [
      "[NeMo I 2020-09-29 03:28:52 common_utils:85] bert-base-uncased model restored from ./checkpoint/bert/bert.pt\n",
      "[NeMo I 2020-09-29 03:28:52 bert_tokenizer:78] Deriving bert model type from pretrained model name.\n",
      "[NeMo I 2020-09-29 03:28:53 text_classification_dataset:217] features restored from ./data/cached_train_BertTokenizer_256_30522\n",
      "[NeMo I 2020-09-29 03:28:53 text_classification_dataset:82] ./data/test.tsv: 20000\n",
      "[NeMo I 2020-09-29 03:30:41 data_preprocessing:250] Min: 21 |                  Max: 298 |                  Mean: 102.33595 |                  Median: 91.0\n",
      "[NeMo I 2020-09-29 03:30:41 data_preprocessing:252] 75 percentile: 139.0\n",
      "[NeMo I 2020-09-29 03:30:41 data_preprocessing:253] 99 percentile: 237.0\n",
      "[NeMo I 2020-09-29 03:30:41 text_classification_dataset:118] 35 out of 20000                         sentences with more than 256 subtokens.\n",
      "[NeMo I 2020-09-29 03:30:41 text_classification_dataset:175] *** Example ***\n",
      "[NeMo I 2020-09-29 03:30:41 text_classification_dataset:176] example_index: 0\n",
      "[NeMo I 2020-09-29 03:30:41 text_classification_dataset:177] subtokens: [CLS] great films , very poor quality transfer : this is a great collection of films by a comedy genius . sadly the transfer done by universal is muddy , without contrast and grain ##y . in fact , it was so bad , ( and far worse than any of the other 40 ' s films in my collection ) , that i had to ask myself if this was a pirate ##d print ! by comparing this collection to original video ##ta ##pes of the same films as well as off - air tap ##ings from the studio universal channel , one can see that this collection simply did not receive the quality transfer treatment that was truly merit ##ed . what a shame . preston stu ##rge ##s deserved better . [SEP]\n",
      "[NeMo I 2020-09-29 03:30:41 text_classification_dataset:178] sent_label: 0\n",
      "[NeMo I 2020-09-29 03:30:41 text_classification_dataset:179] input_ids: 101 2307 3152 1010 2200 3532 3737 4651 1024 2023 2003 1037 2307 3074 1997 3152 2011 1037 4038 11067 1012 13718 1996 4651 2589 2011 5415 2003 15405 1010 2302 5688 1998 8982 2100 1012 1999 2755 1010 2009 2001 2061 2919 1010 1006 1998 2521 4788 2084 2151 1997 1996 2060 2871 1005 1055 3152 1999 2026 3074 1007 1010 2008 1045 2018 2000 3198 2870 2065 2023 2001 1037 11304 2094 6140 999 2011 13599 2023 3074 2000 2434 2678 2696 10374 1997 1996 2168 3152 2004 2092 2004 2125 1011 2250 11112 8613 2013 1996 2996 5415 3149 1010 2028 2064 2156 2008 2023 3074 3432 2106 2025 4374 1996 3737 4651 3949 2008 2001 5621 7857 2098 1012 2054 1037 9467 1012 8475 24646 20800 2015 10849 2488 1012 102 0 0 0 0 0 0 0 0 0 0 0 0 0 0 0 0 0 0 0 0 0 0 0 0 0 0 0 0 0 0 0 0 0 0 0 0 0 0 0 0 0 0 0 0 0 0 0 0 0 0 0 0 0 0 0 0 0 0 0 0 0 0 0 0 0 0 0 0 0 0 0 0 0 0 0 0 0 0 0 0 0 0 0 0 0 0 0 0 0 0 0 0 0 0 0 0 0 0 0 0 0 0 0 0 0 0 0 0 0 0 0 0 0 0 0 0 0 0 0 0 0\n",
      "[NeMo I 2020-09-29 03:30:41 text_classification_dataset:180] input_mask: 1 1 1 1 1 1 1 1 1 1 1 1 1 1 1 1 1 1 1 1 1 1 1 1 1 1 1 1 1 1 1 1 1 1 1 1 1 1 1 1 1 1 1 1 1 1 1 1 1 1 1 1 1 1 1 1 1 1 1 1 1 1 1 1 1 1 1 1 1 1 1 1 1 1 1 1 1 1 1 1 1 1 1 1 1 1 1 1 1 1 1 1 1 1 1 1 1 1 1 1 1 1 1 1 1 1 1 1 1 1 1 1 1 1 1 1 1 1 1 1 1 1 1 1 1 1 1 1 1 1 1 1 1 1 1 0 0 0 0 0 0 0 0 0 0 0 0 0 0 0 0 0 0 0 0 0 0 0 0 0 0 0 0 0 0 0 0 0 0 0 0 0 0 0 0 0 0 0 0 0 0 0 0 0 0 0 0 0 0 0 0 0 0 0 0 0 0 0 0 0 0 0 0 0 0 0 0 0 0 0 0 0 0 0 0 0 0 0 0 0 0 0 0 0 0 0 0 0 0 0 0 0 0 0 0 0 0 0 0 0 0 0 0 0 0 0 0 0 0 0 0 0 0 0 0 0\n",
      "[NeMo I 2020-09-29 03:30:41 text_classification_dataset:175] *** Example ***\n",
      "[NeMo I 2020-09-29 03:30:41 text_classification_dataset:176] example_index: 1\n",
      "[NeMo I 2020-09-29 03:30:41 text_classification_dataset:177] subtokens: [CLS] i would give this a zero if i could : this is really not a review of the book . . . . it ' s a review of the first few chapters . that ' s all i could get through of this through ##ly unlike ##able novel . i understand the author ' s need to take a break from a long running series but why this mess ? just glad i didn ' t buy it and waited for a library copy . well the copy is going back to the library for the next person on the list . [SEP]\n",
      "[NeMo I 2020-09-29 03:30:41 text_classification_dataset:178] sent_label: 0\n",
      "[NeMo I 2020-09-29 03:30:41 text_classification_dataset:179] input_ids: 101 1045 2052 2507 2023 1037 5717 2065 1045 2071 1024 2023 2003 2428 2025 1037 3319 1997 1996 2338 1012 1012 1012 1012 2009 1005 1055 1037 3319 1997 1996 2034 2261 9159 1012 2008 1005 1055 2035 1045 2071 2131 2083 1997 2023 2083 2135 4406 3085 3117 1012 1045 3305 1996 3166 1005 1055 2342 2000 2202 1037 3338 2013 1037 2146 2770 2186 2021 2339 2023 6752 1029 2074 5580 1045 2134 1005 1056 4965 2009 1998 4741 2005 1037 3075 6100 1012 2092 1996 6100 2003 2183 2067 2000 1996 3075 2005 1996 2279 2711 2006 1996 2862 1012 102 0 0 0 0 0 0 0 0 0 0 0 0 0 0 0 0 0 0 0 0 0 0 0 0 0 0 0 0 0 0 0 0 0 0 0 0 0 0 0 0 0 0 0 0 0 0 0 0 0 0 0 0 0 0 0 0 0 0 0 0 0 0 0 0 0 0 0 0 0 0 0 0 0 0 0 0 0 0 0 0 0 0 0 0 0 0 0 0 0 0 0 0 0 0 0 0 0 0 0 0 0 0 0 0 0 0 0 0 0 0 0 0 0 0 0 0 0 0 0 0 0 0 0 0 0 0 0 0 0 0 0 0 0 0 0 0 0 0 0 0 0 0 0 0 0 0 0 0 0 0 0\n",
      "[NeMo I 2020-09-29 03:30:41 text_classification_dataset:180] input_mask: 1 1 1 1 1 1 1 1 1 1 1 1 1 1 1 1 1 1 1 1 1 1 1 1 1 1 1 1 1 1 1 1 1 1 1 1 1 1 1 1 1 1 1 1 1 1 1 1 1 1 1 1 1 1 1 1 1 1 1 1 1 1 1 1 1 1 1 1 1 1 1 1 1 1 1 1 1 1 1 1 1 1 1 1 1 1 1 1 1 1 1 1 1 1 1 1 1 1 1 1 1 1 1 1 1 0 0 0 0 0 0 0 0 0 0 0 0 0 0 0 0 0 0 0 0 0 0 0 0 0 0 0 0 0 0 0 0 0 0 0 0 0 0 0 0 0 0 0 0 0 0 0 0 0 0 0 0 0 0 0 0 0 0 0 0 0 0 0 0 0 0 0 0 0 0 0 0 0 0 0 0 0 0 0 0 0 0 0 0 0 0 0 0 0 0 0 0 0 0 0 0 0 0 0 0 0 0 0 0 0 0 0 0 0 0 0 0 0 0 0 0 0 0 0 0 0 0 0 0 0 0 0 0 0 0 0 0 0 0 0 0 0 0 0 0 0 0 0 0 0 0 0 0 0 0 0\n",
      "[NeMo I 2020-09-29 03:30:41 text_classification_dataset:175] *** Example ***\n",
      "[NeMo I 2020-09-29 03:30:41 text_classification_dataset:176] example_index: 2\n",
      "[NeMo I 2020-09-29 03:30:41 text_classification_dataset:177] subtokens: [CLS] . . . : if my title , while true , attracted you to this rotten film , turn off the tv , go outside , and play . ka ##cz ##mare ##k really sl ##ums here as a suffering wife whose husband gets involved in a hot little blonde number who is into s & m . the blonde , played by somme ##rf ##ield , is too pretty to have the humiliation heap ##ed on her here in the name of sexual obsession . i really wish actors and actresses would stop making junk like this and work on their craft . there is no red ##eem ##ing qualities here except for some good performances amid the dull ##ing sex and nu ##dity . i think \" wildly available \" tries to pass itself off as an independent film when , in fact , it is just desperate and sad . [SEP]\n",
      "[NeMo I 2020-09-29 03:30:41 text_classification_dataset:178] sent_label: 0\n",
      "[NeMo I 2020-09-29 03:30:41 text_classification_dataset:179] input_ids: 101 1012 1012 1012 1024 2065 2026 2516 1010 2096 2995 1010 6296 2017 2000 2023 11083 2143 1010 2735 2125 1996 2694 1010 2175 2648 1010 1998 2377 1012 10556 27966 24376 2243 2428 22889 18163 2182 2004 1037 6114 2564 3005 3129 4152 2920 1999 1037 2980 2210 9081 2193 2040 2003 2046 1055 1004 1049 1012 1996 9081 1010 2209 2011 25158 12881 12891 1010 2003 2205 3492 2000 2031 1996 21171 16721 2098 2006 2014 2182 1999 1996 2171 1997 4424 17418 1012 1045 2428 4299 5889 1998 19910 2052 2644 2437 18015 2066 2023 1998 2147 2006 2037 7477 1012 2045 2003 2053 2417 21564 2075 11647 2182 3272 2005 2070 2204 4616 13463 1996 10634 2075 3348 1998 16371 25469 1012 1045 2228 1000 13544 2800 1000 5363 2000 3413 2993 2125 2004 2019 2981 2143 2043 1010 1999 2755 1010 2009 2003 2074 7143 1998 6517 1012 102 0 0 0 0 0 0 0 0 0 0 0 0 0 0 0 0 0 0 0 0 0 0 0 0 0 0 0 0 0 0 0 0 0 0 0 0 0 0 0 0 0 0 0 0 0 0 0 0 0 0 0 0 0 0 0 0 0 0 0 0 0 0 0 0 0 0 0 0 0 0 0 0 0 0 0 0 0 0 0 0 0 0 0 0 0 0 0 0 0 0 0 0 0 0 0 0 0 0 0 0 0\n",
      "[NeMo I 2020-09-29 03:30:41 text_classification_dataset:180] input_mask: 1 1 1 1 1 1 1 1 1 1 1 1 1 1 1 1 1 1 1 1 1 1 1 1 1 1 1 1 1 1 1 1 1 1 1 1 1 1 1 1 1 1 1 1 1 1 1 1 1 1 1 1 1 1 1 1 1 1 1 1 1 1 1 1 1 1 1 1 1 1 1 1 1 1 1 1 1 1 1 1 1 1 1 1 1 1 1 1 1 1 1 1 1 1 1 1 1 1 1 1 1 1 1 1 1 1 1 1 1 1 1 1 1 1 1 1 1 1 1 1 1 1 1 1 1 1 1 1 1 1 1 1 1 1 1 1 1 1 1 1 1 1 1 1 1 1 1 1 1 1 1 1 1 1 1 0 0 0 0 0 0 0 0 0 0 0 0 0 0 0 0 0 0 0 0 0 0 0 0 0 0 0 0 0 0 0 0 0 0 0 0 0 0 0 0 0 0 0 0 0 0 0 0 0 0 0 0 0 0 0 0 0 0 0 0 0 0 0 0 0 0 0 0 0 0 0 0 0 0 0 0 0 0 0 0 0 0 0 0 0 0 0 0 0 0 0 0 0 0 0 0 0 0 0 0 0\n",
      "[NeMo I 2020-09-29 03:30:41 text_classification_dataset:175] *** Example ***\n",
      "[NeMo I 2020-09-29 03:30:41 text_classification_dataset:176] example_index: 3\n",
      "[NeMo I 2020-09-29 03:30:41 text_classification_dataset:177] subtokens: [CLS] sho ##ddy construction : i used a very similar car roof carrier 15 y ##rs ago on a cross country trip from the west coast to the east coast with great success . unfortunately i gave it away thinking i would never use it again . i found i needed a roof top carrier for a move from the north to south this year , and was pleased to find a very similar item as i had previously used . well it was not the same product at all . i wasn ' t even 1 hr into my trip when a fully loaded carrier flew from the top of my roof bounced and scraped across the trunk hood ( of a new car ) and landed in the middle of the highway . the carrier was in pieces ( all my possess ##ei ##ons in the carrier were intact as i do know how to use these carriers ) the feet had broken off , the straps appeared to have been saw ##ed threw . sho ##ddy construction and unsafe ! i do not recommend this carrier . [SEP]\n",
      "[NeMo I 2020-09-29 03:30:41 text_classification_dataset:178] sent_label: 0\n",
      "[NeMo I 2020-09-29 03:30:41 text_classification_dataset:179] input_ids: 101 26822 14968 2810 1024 1045 2109 1037 2200 2714 2482 4412 6839 2321 1061 2869 3283 2006 1037 2892 2406 4440 2013 1996 2225 3023 2000 1996 2264 3023 2007 2307 3112 1012 6854 1045 2435 2009 2185 3241 1045 2052 2196 2224 2009 2153 1012 1045 2179 1045 2734 1037 4412 2327 6839 2005 1037 2693 2013 1996 2167 2000 2148 2023 2095 1010 1998 2001 7537 2000 2424 1037 2200 2714 8875 2004 1045 2018 3130 2109 1012 2092 2009 2001 2025 1996 2168 4031 2012 2035 1012 1045 2347 1005 1056 2130 1015 17850 2046 2026 4440 2043 1037 3929 8209 6839 5520 2013 1996 2327 1997 2026 4412 13605 1998 20378 2408 1996 8260 7415 1006 1997 1037 2047 2482 1007 1998 5565 1999 1996 2690 1997 1996 3307 1012 1996 6839 2001 1999 4109 1006 2035 2026 10295 7416 5644 1999 1996 6839 2020 10109 2004 1045 2079 2113 2129 2000 2224 2122 11363 1007 1996 2519 2018 3714 2125 1010 1996 19702 2596 2000 2031 2042 2387 2098 4711 1012 26822 14968 2810 1998 25135 999 1045 2079 2025 16755 2023 6839 1012 102 0 0 0 0 0 0 0 0 0 0 0 0 0 0 0 0 0 0 0 0 0 0 0 0 0 0 0 0 0 0 0 0 0 0 0 0 0 0 0 0 0 0 0 0 0 0 0 0 0 0 0 0 0 0 0 0 0 0 0 0 0 0 0 0 0\n",
      "[NeMo I 2020-09-29 03:30:41 text_classification_dataset:180] input_mask: 1 1 1 1 1 1 1 1 1 1 1 1 1 1 1 1 1 1 1 1 1 1 1 1 1 1 1 1 1 1 1 1 1 1 1 1 1 1 1 1 1 1 1 1 1 1 1 1 1 1 1 1 1 1 1 1 1 1 1 1 1 1 1 1 1 1 1 1 1 1 1 1 1 1 1 1 1 1 1 1 1 1 1 1 1 1 1 1 1 1 1 1 1 1 1 1 1 1 1 1 1 1 1 1 1 1 1 1 1 1 1 1 1 1 1 1 1 1 1 1 1 1 1 1 1 1 1 1 1 1 1 1 1 1 1 1 1 1 1 1 1 1 1 1 1 1 1 1 1 1 1 1 1 1 1 1 1 1 1 1 1 1 1 1 1 1 1 1 1 1 1 1 1 1 1 1 1 1 1 1 1 1 1 1 1 1 1 1 1 1 1 0 0 0 0 0 0 0 0 0 0 0 0 0 0 0 0 0 0 0 0 0 0 0 0 0 0 0 0 0 0 0 0 0 0 0 0 0 0 0 0 0 0 0 0 0 0 0 0 0 0 0 0 0 0 0 0 0 0 0 0 0 0 0 0 0\n",
      "[NeMo I 2020-09-29 03:30:41 text_classification_dataset:175] *** Example ***\n",
      "[NeMo I 2020-09-29 03:30:41 text_classification_dataset:176] example_index: 4\n",
      "[NeMo I 2020-09-29 03:30:41 text_classification_dataset:177] subtokens: [CLS] this is still in print ? : how far down can they go ? how about titles like \" too much blood \" \" tie you up \" and \" too tough \" . the fact is \" the worlds greatest rock and roll band \" gave up caring long ago , full well knowing that they can release a album of pure bi ##lge ##water like this and some fans will still run out and buy it . folks , the glory days are long gone , this is just another cl ##unk ##er too add to their post 1973 list ! [SEP]\n",
      "[NeMo I 2020-09-29 03:30:41 text_classification_dataset:178] sent_label: 0\n",
      "[NeMo I 2020-09-29 03:30:41 text_classification_dataset:179] input_ids: 101 2023 2003 2145 1999 6140 1029 1024 2129 2521 2091 2064 2027 2175 1029 2129 2055 4486 2066 1000 2205 2172 2668 1000 1000 5495 2017 2039 1000 1998 1000 2205 7823 1000 1012 1996 2755 2003 1000 1996 8484 4602 2600 1998 4897 2316 1000 2435 2039 11922 2146 3283 1010 2440 2092 4209 2008 2027 2064 2713 1037 2201 1997 5760 12170 28875 5880 2066 2023 1998 2070 4599 2097 2145 2448 2041 1998 4965 2009 1012 12455 1010 1996 8294 2420 2024 2146 2908 1010 2023 2003 2074 2178 18856 16814 2121 2205 5587 2000 2037 2695 3381 2862 999 102 0 0 0 0 0 0 0 0 0 0 0 0 0 0 0 0 0 0 0 0 0 0 0 0 0 0 0 0 0 0 0 0 0 0 0 0 0 0 0 0 0 0 0 0 0 0 0 0 0 0 0 0 0 0 0 0 0 0 0 0 0 0 0 0 0 0 0 0 0 0 0 0 0 0 0 0 0 0 0 0 0 0 0 0 0 0 0 0 0 0 0 0 0 0 0 0 0 0 0 0 0 0 0 0 0 0 0 0 0 0 0 0 0 0 0 0 0 0 0 0 0 0 0 0 0 0 0 0 0 0 0 0 0 0 0 0 0 0 0 0 0 0 0 0 0 0 0 0 0 0 0\n",
      "[NeMo I 2020-09-29 03:30:41 text_classification_dataset:180] input_mask: 1 1 1 1 1 1 1 1 1 1 1 1 1 1 1 1 1 1 1 1 1 1 1 1 1 1 1 1 1 1 1 1 1 1 1 1 1 1 1 1 1 1 1 1 1 1 1 1 1 1 1 1 1 1 1 1 1 1 1 1 1 1 1 1 1 1 1 1 1 1 1 1 1 1 1 1 1 1 1 1 1 1 1 1 1 1 1 1 1 1 1 1 1 1 1 1 1 1 1 1 1 1 1 1 1 0 0 0 0 0 0 0 0 0 0 0 0 0 0 0 0 0 0 0 0 0 0 0 0 0 0 0 0 0 0 0 0 0 0 0 0 0 0 0 0 0 0 0 0 0 0 0 0 0 0 0 0 0 0 0 0 0 0 0 0 0 0 0 0 0 0 0 0 0 0 0 0 0 0 0 0 0 0 0 0 0 0 0 0 0 0 0 0 0 0 0 0 0 0 0 0 0 0 0 0 0 0 0 0 0 0 0 0 0 0 0 0 0 0 0 0 0 0 0 0 0 0 0 0 0 0 0 0 0 0 0 0 0 0 0 0 0 0 0 0 0 0 0 0 0 0 0 0 0 0 0\n"
     ]
    }
   ],
   "source": [
    "model = nemo_nlp.nm.trainables.get_pretrained_lm_model(\n",
    "    pretrained_model_name=PRETRAINED_MODEL_NAME,\n",
    "    config=PRETRAINED_MODEL_CONFIG,\n",
    "    checkpoint=PRETRAINED_MODEL_CHECKPOINT\n",
    ")\n",
    "tokenizer = nemo.collections.nlp.data.tokenizers.get_tokenizer(\n",
    "    tokenizer_name='nemobert',\n",
    "    pretrained_model_name=PRETRAINED_MODEL_NAME,\n",
    "    do_lower_case=True\n",
    ")\n",
    "classifier = SequenceClassifier(    \n",
    "    hidden_size=model.hidden_size,\n",
    "    num_classes=2,\n",
    "    dropout=DROPOUT_RATE,\n",
    "    num_layers=2,\n",
    "    log_softmax=False,\n",
    ")\n",
    "loss_func = CrossEntropyLossNM()\n",
    "train_data_layer = BertTextClassificationDataLayer(\n",
    "    tokenizer=tokenizer,\n",
    "    input_file=TRAIN_DATA_PATH,\n",
    "    max_seq_length=MAX_SEQ_LEN,\n",
    "    batch_size=BATCH_SIZE,\n",
    "    shuffle=True,\n",
    "    use_cache=True\n",
    ")\n",
    "eval_data_layer = BertTextClassificationDataLayer(\n",
    "    tokenizer=tokenizer,\n",
    "    input_file=TEST_DATA_PATH,\n",
    "    max_seq_length=MAX_SEQ_LEN,\n",
    "    batch_size=BATCH_SIZE,\n",
    "    shuffle=False,\n",
    "    use_cache=False\n",
    ")"
   ]
  },
  {
   "cell_type": "code",
   "execution_count": 5,
   "metadata": {},
   "outputs": [
    {
     "data": {
      "text/plain": [
       "(109482240, 768)"
      ]
     },
     "execution_count": 5,
     "metadata": {},
     "output_type": "execute_result"
    }
   ],
   "source": [
    "model.num_weights, model.hidden_size"
   ]
  },
  {
   "cell_type": "code",
   "execution_count": 6,
   "metadata": {},
   "outputs": [],
   "source": [
    "train_data = train_data_layer()\n",
    "train_hidden_states = model(input_ids=train_data.input_ids, token_type_ids=train_data.input_type_ids, attention_mask=train_data.input_mask)\n",
    "train_logits = classifier(hidden_states=train_hidden_states)\n",
    "loss = loss_func(logits=train_logits, labels=train_data.labels)\n",
    "# If you're training on multiple GPUs, this should be\n",
    "# len(train_data_layer) // (batch_size * batches_per_step * num_gpus)\n",
    "train_steps_per_epoch = len(train_data_layer) // BATCH_SIZE\n",
    "\n",
    "eval_data = eval_data_layer()\n",
    "eval_hidden_states = model(input_ids=eval_data.input_ids, token_type_ids=eval_data.input_type_ids, attention_mask=eval_data.input_mask)\n",
    "eval_logits = classifier(hidden_states=eval_hidden_states)"
   ]
  },
  {
   "cell_type": "code",
   "execution_count": 7,
   "metadata": {},
   "outputs": [
    {
     "name": "stderr",
     "output_type": "stream",
     "text": [
      "[NeMo W 2020-09-29 03:30:45 deprecated:66] Function ``__init__`` is deprecated. It is going to be removed in the 0.12 version. The callback section of NeMo has been updated.\n"
     ]
    }
   ],
   "source": [
    "train_callback = nemo.core.SimpleLossLoggerCallback(\n",
    "    tensors=[loss],\n",
    "    print_func=lambda x: logging.info(\"Loss: {:.3f}\".format(x[0].item())),\n",
    "    get_tb_values=lambda x: [[\"loss\", x[0]]],\n",
    "    step_freq=train_steps_per_epoch,\n",
    "    tb_writer=nf.tb_writer,\n",
    ")\n",
    "\n",
    "# Callback to evaluate the model\n",
    "eval_callback = nemo.core.EvaluatorCallback(\n",
    "        eval_tensors=[eval_logits, eval_data.labels],\n",
    "        user_iter_callback=lambda x, y: eval_iter_callback(x, y, eval_data_layer),\n",
    "        user_epochs_done_callback=lambda x: eval_epochs_done_callback(x, f'{nf.work_dir}/graphs'),\n",
    "        tb_writer=nf.tb_writer,\n",
    "        eval_step=train_steps_per_epoch,\n",
    "    )"
   ]
  },
  {
   "cell_type": "code",
   "execution_count": 9,
   "metadata": {},
   "outputs": [
    {
     "name": "stdout",
     "output_type": "stream",
     "text": [
      "Selected optimization level O1:  Insert automatic casts around Pytorch functions and Tensor methods.\n",
      "\n",
      "Defaults for this optimization level are:\n",
      "enabled                : True\n",
      "opt_level              : O1\n",
      "cast_model_type        : None\n",
      "patch_torch_functions  : True\n",
      "keep_batchnorm_fp32    : None\n",
      "master_weights         : None\n",
      "loss_scale             : dynamic\n",
      "Processing user overrides (additional kwargs that are not None)...\n",
      "After processing overrides, optimization options are:\n",
      "enabled                : True\n",
      "opt_level              : O1\n",
      "cast_model_type        : None\n",
      "patch_torch_functions  : True\n",
      "keep_batchnorm_fp32    : None\n",
      "master_weights         : None\n",
      "loss_scale             : dynamic\n",
      "[NeMo I 2020-09-29 03:33:50 deprecated_callbacks:195] Starting .....\n"
     ]
    },
    {
     "name": "stderr",
     "output_type": "stream",
     "text": [
      "[NeMo W 2020-09-29 03:33:50 deprecated:66] Function ``epoch_num`` is deprecated. It is going to be removed in the 0.12 version. epoch_num has been deprecated in favour of epoch.\n"
     ]
    },
    {
     "name": "stdout",
     "output_type": "stream",
     "text": [
      "[NeMo I 2020-09-29 03:33:50 deprecated_callbacks:207] Starting epoch 0\n",
      "[NeMo I 2020-09-29 03:33:51 deprecated_callbacks:232] Step: 0\n",
      "[NeMo I 2020-09-29 03:33:51 <ipython-input-7-77fd1981e82e>:3] Loss: 0.701\n",
      "[NeMo I 2020-09-29 03:33:51 deprecated_callbacks:247] Step time: 0.6725730895996094 seconds\n",
      "[NeMo I 2020-09-29 03:33:51 deprecated_callbacks:316] Doing Evaluation ..............................\n",
      "[NeMo I 2020-09-29 03:34:40 text_classification_callback:57] Accuracy: 0.5143\n",
      "[NeMo I 2020-09-29 03:34:40 text_classification_callback:64] Sampled preds: [0 0 1 1 0 1 1 1 0 1 1 1 1 1 1 1 1 0 1 1]\n",
      "[NeMo I 2020-09-29 03:34:40 text_classification_callback:65] Sampled labels: [0 1 0 0 0 0 1 0 1 1 0 1 1 1 1 0 0 0 0 1]\n",
      "[NeMo I 2020-09-29 03:34:40 callback_utils:92] Confusion matrix:\n",
      "    [[2335 7739]\n",
      "     [1975 7951]]\n",
      "[NeMo I 2020-09-29 03:34:41 text_classification_callback:67]               precision    recall  f1-score   support\n",
      "    \n",
      "               0     0.5418    0.2318    0.3247     10074\n",
      "               1     0.5068    0.8010    0.6208      9926\n",
      "    \n",
      "        accuracy                         0.5143     20000\n",
      "       macro avg     0.5243    0.5164    0.4727     20000\n",
      "    weighted avg     0.5244    0.5143    0.4716     20000\n",
      "    \n",
      "[NeMo I 2020-09-29 03:34:41 deprecated_callbacks:321] Evaluation time: 49.55312204360962 seconds\n",
      "[NeMo I 2020-09-29 03:39:13 deprecated_callbacks:215] Finished epoch 0 in 0:05:22.766475\n",
      "[NeMo I 2020-09-29 03:39:13 deprecated_callbacks:207] Starting epoch 1\n",
      "[NeMo I 2020-09-29 03:39:13 deprecated_callbacks:232] Step: 1125\n",
      "[NeMo I 2020-09-29 03:39:13 <ipython-input-7-77fd1981e82e>:3] Loss: 0.069\n",
      "[NeMo I 2020-09-29 03:39:13 deprecated_callbacks:247] Step time: 0.24350714683532715 seconds\n",
      "[NeMo I 2020-09-29 03:39:13 deprecated_callbacks:316] Doing Evaluation ..............................\n",
      "[NeMo I 2020-09-29 03:40:04 text_classification_callback:57] Accuracy: 0.94365\n",
      "[NeMo I 2020-09-29 03:40:04 text_classification_callback:64] Sampled preds: [0 0 1 0 1 1 1 1 1 1 1 0 1 0 1 1 0 0 1 0]\n",
      "[NeMo I 2020-09-29 03:40:04 text_classification_callback:65] Sampled labels: [0 0 1 0 1 1 0 1 1 1 1 0 0 0 1 1 0 0 1 0]\n",
      "[NeMo I 2020-09-29 03:40:04 callback_utils:92] Confusion matrix:\n",
      "    [[9565  509]\n",
      "     [ 618 9308]]\n",
      "[NeMo I 2020-09-29 03:40:04 text_classification_callback:67]               precision    recall  f1-score   support\n",
      "    \n",
      "               0     0.9393    0.9495    0.9444     10074\n",
      "               1     0.9482    0.9377    0.9429      9926\n",
      "    \n",
      "        accuracy                         0.9436     20000\n",
      "       macro avg     0.9437    0.9436    0.9436     20000\n",
      "    weighted avg     0.9437    0.9436    0.9436     20000\n",
      "    \n",
      "[NeMo I 2020-09-29 03:40:04 deprecated_callbacks:321] Evaluation time: 50.896912813186646 seconds\n",
      "[NeMo I 2020-09-29 03:44:39 deprecated_callbacks:215] Finished epoch 1 in 0:05:25.891072\n",
      "[NeMo I 2020-09-29 03:44:39 deprecated_callbacks:207] Starting epoch 2\n",
      "[NeMo I 2020-09-29 03:44:39 deprecated_callbacks:232] Step: 2250\n",
      "[NeMo I 2020-09-29 03:44:39 <ipython-input-7-77fd1981e82e>:3] Loss: 0.157\n",
      "[NeMo I 2020-09-29 03:44:39 deprecated_callbacks:247] Step time: 0.24474740028381348 seconds\n",
      "[NeMo I 2020-09-29 03:44:39 deprecated_callbacks:316] Doing Evaluation ..............................\n",
      "[NeMo I 2020-09-29 03:45:30 text_classification_callback:57] Accuracy: 0.947\n",
      "[NeMo I 2020-09-29 03:45:30 text_classification_callback:64] Sampled preds: [0 0 0 0 1 1 1 1 1 0 1 0 0 1 1 0 0 1 0 0]\n",
      "[NeMo I 2020-09-29 03:45:30 text_classification_callback:65] Sampled labels: [0 0 0 0 1 1 1 1 1 0 1 0 0 1 1 0 0 1 1 0]\n",
      "[NeMo I 2020-09-29 03:45:30 callback_utils:92] Confusion matrix:\n",
      "    [[9715  359]\n",
      "     [ 701 9225]]\n",
      "[NeMo I 2020-09-29 03:45:30 text_classification_callback:67]               precision    recall  f1-score   support\n",
      "    \n",
      "               0     0.9327    0.9644    0.9483     10074\n",
      "               1     0.9625    0.9294    0.9457      9926\n",
      "    \n",
      "        accuracy                         0.9470     20000\n",
      "       macro avg     0.9476    0.9469    0.9470     20000\n",
      "    weighted avg     0.9475    0.9470    0.9470     20000\n",
      "    \n",
      "[NeMo I 2020-09-29 03:45:30 deprecated_callbacks:321] Evaluation time: 51.102038860321045 seconds\n",
      "[NeMo I 2020-09-29 03:50:06 deprecated_callbacks:215] Finished epoch 2 in 0:05:26.985863\n",
      "[NeMo I 2020-09-29 03:50:06 deprecated_callbacks:203] Done in 0:16:15.649714\n",
      "[NeMo I 2020-09-29 03:50:06 deprecated_callbacks:339] Final Evaluation ..............................\n",
      "[NeMo I 2020-09-29 03:50:57 text_classification_callback:57] Accuracy: 0.9484\n",
      "[NeMo I 2020-09-29 03:50:57 text_classification_callback:64] Sampled preds: [0 1 1 0 1 1 1 1 0 0 0 0 1 0 0 0 1 0 1 0]\n",
      "[NeMo I 2020-09-29 03:50:57 text_classification_callback:65] Sampled labels: [0 1 0 0 1 1 1 1 0 0 0 0 1 0 0 0 1 0 1 0]\n",
      "[NeMo I 2020-09-29 03:50:57 callback_utils:92] Confusion matrix:\n",
      "    [[9575  499]\n",
      "     [ 533 9393]]\n",
      "[NeMo I 2020-09-29 03:50:57 text_classification_callback:67]               precision    recall  f1-score   support\n",
      "    \n",
      "               0     0.9473    0.9505    0.9489     10074\n",
      "               1     0.9496    0.9463    0.9479      9926\n",
      "    \n",
      "        accuracy                         0.9484     20000\n",
      "       macro avg     0.9484    0.9484    0.9484     20000\n",
      "    weighted avg     0.9484    0.9484    0.9484     20000\n",
      "    \n",
      "[NeMo I 2020-09-29 03:50:57 deprecated_callbacks:344] Evaluation time: 51.13108539581299 seconds\n"
     ]
    },
    {
     "data": {
      "image/png": "[encoded data removed]",
      "text/plain": [
       "<Figure size 432x288 with 2 Axes>"
      ]
     },
     "metadata": {
      "needs_background": "light"
     },
     "output_type": "display_data"
    },
    {
     "data": {
      "image/png": "[encoded data removed]",
      "text/plain": [
       "<Figure size 432x288 with 2 Axes>"
      ]
     },
     "metadata": {
      "needs_background": "light"
     },
     "output_type": "display_data"
    },
    {
     "data": {
      "image/png": "[encoded data removed]",
      "text/plain": [
       "<Figure size 432x288 with 2 Axes>"
      ]
     },
     "metadata": {
      "needs_background": "light"
     },
     "output_type": "display_data"
    },
    {
     "data": {
      "image/png": "[encoded data removed]",
      "text/plain": [
       "<Figure size 432x288 with 2 Axes>"
      ]
     },
     "metadata": {
      "needs_background": "light"
     },
     "output_type": "display_data"
    }
   ],
   "source": [
    "lr_policy_fn = get_lr_policy(\"WarmupAnnealing\", total_steps=n_epochs * train_steps_per_epoch, warmup_ratio=lr_warmup_proportion\n",
    ")\n",
    "nf.train(\n",
    "    tensors_to_optimize=[loss],\n",
    "    callbacks=[train_callback, eval_callback],\n",
    "    lr_policy=lr_policy_fn,\n",
    "    optimizer=\"adam_w\",\n",
    "    optimization_params={\"num_epochs\": n_epochs, \"lr\": lr, \"weight_decay\": weight_decay},\n",
    ")"
   ]
  },
  {
   "cell_type": "code",
   "execution_count": null,
   "metadata": {},
   "outputs": [],
   "source": []
  }
 ],
 "metadata": {
  "kernelspec": {
   "display_name": "Python 3",
   "language": "python",
   "name": "python3"
  },
  "language_info": {
   "codemirror_mode": {
    "name": "ipython",
    "version": 3
   },
   "file_extension": ".py",
   "mimetype": "text/x-python",
   "name": "python",
   "nbconvert_exporter": "python",
   "pygments_lexer": "ipython3",
   "version": "3.6.9"
  }
 },
 "nbformat": 4,
 "nbformat_minor": 4
}
