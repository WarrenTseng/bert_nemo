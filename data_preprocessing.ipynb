{
 "cells": [
  {
   "cell_type": "code",
   "execution_count": null,
   "metadata": {},
   "outputs": [],
   "source": [
    "def read_data(fname):\n",
    "    with open(fname, 'r') as f:\n",
    "        data = f.readlines()\n",
    "    label = []\n",
    "    text = []\n",
    "    for t in data:\n",
    "        label.append(int(t[9])-1)\n",
    "        text.append(t[11:].replace('\\n', '').replace('\\t', ''))\n",
    "    return text, label\n",
    "\n",
    "def random_select(text, label, num):\n",
    "    import numpy as np\n",
    "    idx = np.arange(len(text))\n",
    "    np.random.shuffle(idx)\n",
    "    return np.array(text)[idx[:num]], np.array(label)[idx[:num]]\n",
    "    \n",
    "def save_as_tsv(fname, text, label):\n",
    "    s = 'sentence\\tlabel\\n'\n",
    "    i = 0\n",
    "    for t, l in zip(text, label):\n",
    "        s += t + '\\t' + str(l) + '\\n'\n",
    "        i += 1\n",
    "    print(i)\n",
    "    with open(fname, 'w') as f:\n",
    "        f.write(s)"
   ]
  },
  {
   "cell_type": "markdown",
   "metadata": {},
   "source": [
    "## Training data"
   ]
  },
  {
   "cell_type": "markdown",
   "metadata": {},
   "source": [
    "- read data"
   ]
  },
  {
   "cell_type": "code",
   "execution_count": null,
   "metadata": {},
   "outputs": [],
   "source": [
    "text, label = read_data('./data/train.ft.txt')\n",
    "len(text), len(label)"
   ]
  },
  {
   "cell_type": "markdown",
   "metadata": {},
   "source": [
    "- randomly select 36000 data as training set"
   ]
  },
  {
   "cell_type": "code",
   "execution_count": null,
   "metadata": {},
   "outputs": [],
   "source": [
    "text, label = random_select(text, label, 36000)\n",
    "len(text), len(label)"
   ]
  },
  {
   "cell_type": "markdown",
   "metadata": {},
   "source": [
    "- save the data as 'tsv' format"
   ]
  },
  {
   "cell_type": "code",
   "execution_count": null,
   "metadata": {},
   "outputs": [],
   "source": [
    "save_as_tsv('./data/train.tsv', text, label)"
   ]
  },
  {
   "cell_type": "markdown",
   "metadata": {},
   "source": [
    "## Testing data"
   ]
  },
  {
   "cell_type": "markdown",
   "metadata": {},
   "source": [
    "- read data"
   ]
  },
  {
   "cell_type": "code",
   "execution_count": null,
   "metadata": {},
   "outputs": [],
   "source": [
    "text, label = read_data('./data/test.ft.txt')\n",
    "len(text), len(label)"
   ]
  },
  {
   "cell_type": "markdown",
   "metadata": {},
   "source": [
    "- randomly select 20000 data as testing set"
   ]
  },
  {
   "cell_type": "code",
   "execution_count": null,
   "metadata": {},
   "outputs": [],
   "source": [
    "text, label = random_select(text, label, 20000)\n",
    "len(text), len(label)"
   ]
  },
  {
   "cell_type": "markdown",
   "metadata": {},
   "source": [
    "- save the data as 'tsv' format"
   ]
  },
  {
   "cell_type": "code",
   "execution_count": null,
   "metadata": {},
   "outputs": [],
   "source": [
    "save_as_tsv('./data/test.tsv', text, label)"
   ]
  },
  {
   "cell_type": "code",
   "execution_count": null,
   "metadata": {},
   "outputs": [],
   "source": []
  }
 ],
 "metadata": {
  "kernelspec": {
   "display_name": "Python 3",
   "language": "python",
   "name": "python3"
  },
  "language_info": {
   "codemirror_mode": {
    "name": "ipython",
    "version": 3
   },
   "file_extension": ".py",
   "mimetype": "text/x-python",
   "name": "python",
   "nbconvert_exporter": "python",
   "pygments_lexer": "ipython3",
   "version": "3.6.9"
  }
 },
 "nbformat": 4,
 "nbformat_minor": 4
}
